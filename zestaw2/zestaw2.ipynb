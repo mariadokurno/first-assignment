{
 "cells": [
  {
   "cell_type": "code",
   "execution_count": 1,
   "metadata": {},
   "outputs": [],
   "source": [
    "import pandas as pd\n",
    "import matplotlib.pyplot as plt\n",
    "import seaborn as sns\n",
    "import numpy as np\n",
    "from sklearn import linear_model\n",
    "from scipy import stats\n",
    "from sklearn.model_selection import train_test_split \n",
    "from sklearn.linear_model import LinearRegression\n",
    "from sklearn import metrics\n",
    "%matplotlib inline\n",
    "from IPython.core.interactiveshell import InteractiveShell\n",
    "\n",
    "InteractiveShell.ast_node_interactivity = 'all';\n"
   ]
  },
  {
   "cell_type": "code",
   "execution_count": 2,
   "metadata": {},
   "outputs": [],
   "source": [
    "\n",
    "df = pd.read_csv(\"survey_results_public.csv\", header=0,\n",
    "                 usecols=[ 'Age','WorkWeekHrs', 'CodeRevHrs', 'ConvertedComp', 'CompTotal' ])"
   ]
  },
  {
   "cell_type": "code",
   "execution_count": 3,
   "metadata": {},
   "outputs": [
    {
     "data": {
      "text/html": [
       "<div>\n",
       "<style scoped>\n",
       "    .dataframe tbody tr th:only-of-type {\n",
       "        vertical-align: middle;\n",
       "    }\n",
       "\n",
       "    .dataframe tbody tr th {\n",
       "        vertical-align: top;\n",
       "    }\n",
       "\n",
       "    .dataframe thead th {\n",
       "        text-align: right;\n",
       "    }\n",
       "</style>\n",
       "<table border=\"1\" class=\"dataframe\">\n",
       "  <thead>\n",
       "    <tr style=\"text-align: right;\">\n",
       "      <th></th>\n",
       "      <th>CompTotal</th>\n",
       "      <th>ConvertedComp</th>\n",
       "      <th>WorkWeekHrs</th>\n",
       "      <th>CodeRevHrs</th>\n",
       "      <th>Age</th>\n",
       "    </tr>\n",
       "  </thead>\n",
       "  <tbody>\n",
       "    <tr>\n",
       "      <td>0</td>\n",
       "      <td>NaN</td>\n",
       "      <td>NaN</td>\n",
       "      <td>NaN</td>\n",
       "      <td>NaN</td>\n",
       "      <td>14.0</td>\n",
       "    </tr>\n",
       "    <tr>\n",
       "      <td>1</td>\n",
       "      <td>NaN</td>\n",
       "      <td>NaN</td>\n",
       "      <td>NaN</td>\n",
       "      <td>NaN</td>\n",
       "      <td>19.0</td>\n",
       "    </tr>\n",
       "    <tr>\n",
       "      <td>2</td>\n",
       "      <td>23000.0</td>\n",
       "      <td>8820.0</td>\n",
       "      <td>40.0</td>\n",
       "      <td>NaN</td>\n",
       "      <td>28.0</td>\n",
       "    </tr>\n",
       "    <tr>\n",
       "      <td>3</td>\n",
       "      <td>61000.0</td>\n",
       "      <td>61000.0</td>\n",
       "      <td>80.0</td>\n",
       "      <td>NaN</td>\n",
       "      <td>22.0</td>\n",
       "    </tr>\n",
       "    <tr>\n",
       "      <td>4</td>\n",
       "      <td>NaN</td>\n",
       "      <td>NaN</td>\n",
       "      <td>55.0</td>\n",
       "      <td>NaN</td>\n",
       "      <td>30.0</td>\n",
       "    </tr>\n",
       "    <tr>\n",
       "      <td>...</td>\n",
       "      <td>...</td>\n",
       "      <td>...</td>\n",
       "      <td>...</td>\n",
       "      <td>...</td>\n",
       "      <td>...</td>\n",
       "    </tr>\n",
       "    <tr>\n",
       "      <td>2994</td>\n",
       "      <td>NaN</td>\n",
       "      <td>NaN</td>\n",
       "      <td>40.0</td>\n",
       "      <td>4.0</td>\n",
       "      <td>NaN</td>\n",
       "    </tr>\n",
       "    <tr>\n",
       "      <td>2995</td>\n",
       "      <td>23000.0</td>\n",
       "      <td>75876.0</td>\n",
       "      <td>45.0</td>\n",
       "      <td>3.0</td>\n",
       "      <td>29.0</td>\n",
       "    </tr>\n",
       "    <tr>\n",
       "      <td>2996</td>\n",
       "      <td>NaN</td>\n",
       "      <td>NaN</td>\n",
       "      <td>NaN</td>\n",
       "      <td>NaN</td>\n",
       "      <td>20.0</td>\n",
       "    </tr>\n",
       "    <tr>\n",
       "      <td>2997</td>\n",
       "      <td>90000.0</td>\n",
       "      <td>1080000.0</td>\n",
       "      <td>80.0</td>\n",
       "      <td>NaN</td>\n",
       "      <td>31.0</td>\n",
       "    </tr>\n",
       "    <tr>\n",
       "      <td>2998</td>\n",
       "      <td>7500.0</td>\n",
       "      <td>24048.0</td>\n",
       "      <td>40.0</td>\n",
       "      <td>8.0</td>\n",
       "      <td>23.0</td>\n",
       "    </tr>\n",
       "  </tbody>\n",
       "</table>\n",
       "<p>2999 rows × 5 columns</p>\n",
       "</div>"
      ],
      "text/plain": [
       "      CompTotal  ConvertedComp  WorkWeekHrs  CodeRevHrs   Age\n",
       "0           NaN            NaN          NaN         NaN  14.0\n",
       "1           NaN            NaN          NaN         NaN  19.0\n",
       "2       23000.0         8820.0         40.0         NaN  28.0\n",
       "3       61000.0        61000.0         80.0         NaN  22.0\n",
       "4           NaN            NaN         55.0         NaN  30.0\n",
       "...         ...            ...          ...         ...   ...\n",
       "2994        NaN            NaN         40.0         4.0   NaN\n",
       "2995    23000.0        75876.0         45.0         3.0  29.0\n",
       "2996        NaN            NaN          NaN         NaN  20.0\n",
       "2997    90000.0      1080000.0         80.0         NaN  31.0\n",
       "2998     7500.0        24048.0         40.0         8.0  23.0\n",
       "\n",
       "[2999 rows x 5 columns]"
      ]
     },
     "execution_count": 3,
     "metadata": {},
     "output_type": "execute_result"
    }
   ],
   "source": [
    "df"
   ]
  },
  {
   "cell_type": "code",
   "execution_count": 4,
   "metadata": {},
   "outputs": [],
   "source": [
    "df = df.dropna()"
   ]
  },
  {
   "cell_type": "code",
   "execution_count": 5,
   "metadata": {},
   "outputs": [
    {
     "data": {
      "text/plain": [
       "CompTotal        float64\n",
       "ConvertedComp    float64\n",
       "WorkWeekHrs      float64\n",
       "CodeRevHrs       float64\n",
       "Age              float64\n",
       "dtype: object"
      ]
     },
     "execution_count": 5,
     "metadata": {},
     "output_type": "execute_result"
    }
   ],
   "source": [
    "df.dtypes"
   ]
  },
  {
   "cell_type": "code",
   "execution_count": 6,
   "metadata": {},
   "outputs": [],
   "source": [
    "corr = df.corr()"
   ]
  },
  {
   "cell_type": "code",
   "execution_count": 7,
   "metadata": {},
   "outputs": [
    {
     "data": {
      "text/html": [
       "<div>\n",
       "<style scoped>\n",
       "    .dataframe tbody tr th:only-of-type {\n",
       "        vertical-align: middle;\n",
       "    }\n",
       "\n",
       "    .dataframe tbody tr th {\n",
       "        vertical-align: top;\n",
       "    }\n",
       "\n",
       "    .dataframe thead th {\n",
       "        text-align: right;\n",
       "    }\n",
       "</style>\n",
       "<table border=\"1\" class=\"dataframe\">\n",
       "  <thead>\n",
       "    <tr style=\"text-align: right;\">\n",
       "      <th></th>\n",
       "      <th>CompTotal</th>\n",
       "      <th>ConvertedComp</th>\n",
       "      <th>WorkWeekHrs</th>\n",
       "      <th>CodeRevHrs</th>\n",
       "      <th>Age</th>\n",
       "    </tr>\n",
       "  </thead>\n",
       "  <tbody>\n",
       "    <tr>\n",
       "      <td>CompTotal</td>\n",
       "      <td>1.000000</td>\n",
       "      <td>-0.028891</td>\n",
       "      <td>-0.015671</td>\n",
       "      <td>-0.026525</td>\n",
       "      <td>0.016447</td>\n",
       "    </tr>\n",
       "    <tr>\n",
       "      <td>ConvertedComp</td>\n",
       "      <td>-0.028891</td>\n",
       "      <td>1.000000</td>\n",
       "      <td>-0.004572</td>\n",
       "      <td>-0.073048</td>\n",
       "      <td>0.099926</td>\n",
       "    </tr>\n",
       "    <tr>\n",
       "      <td>WorkWeekHrs</td>\n",
       "      <td>-0.015671</td>\n",
       "      <td>-0.004572</td>\n",
       "      <td>1.000000</td>\n",
       "      <td>0.027850</td>\n",
       "      <td>-0.005370</td>\n",
       "    </tr>\n",
       "    <tr>\n",
       "      <td>CodeRevHrs</td>\n",
       "      <td>-0.026525</td>\n",
       "      <td>-0.073048</td>\n",
       "      <td>0.027850</td>\n",
       "      <td>1.000000</td>\n",
       "      <td>-0.039880</td>\n",
       "    </tr>\n",
       "    <tr>\n",
       "      <td>Age</td>\n",
       "      <td>0.016447</td>\n",
       "      <td>0.099926</td>\n",
       "      <td>-0.005370</td>\n",
       "      <td>-0.039880</td>\n",
       "      <td>1.000000</td>\n",
       "    </tr>\n",
       "  </tbody>\n",
       "</table>\n",
       "</div>"
      ],
      "text/plain": [
       "               CompTotal  ConvertedComp  WorkWeekHrs  CodeRevHrs       Age\n",
       "CompTotal       1.000000      -0.028891    -0.015671   -0.026525  0.016447\n",
       "ConvertedComp  -0.028891       1.000000    -0.004572   -0.073048  0.099926\n",
       "WorkWeekHrs    -0.015671      -0.004572     1.000000    0.027850 -0.005370\n",
       "CodeRevHrs     -0.026525      -0.073048     0.027850    1.000000 -0.039880\n",
       "Age             0.016447       0.099926    -0.005370   -0.039880  1.000000"
      ]
     },
     "execution_count": 7,
     "metadata": {},
     "output_type": "execute_result"
    }
   ],
   "source": [
    "corr"
   ]
  },
  {
   "cell_type": "code",
   "execution_count": 8,
   "metadata": {},
   "outputs": [
    {
     "data": {
      "text/html": [
       "<style  type=\"text/css\" >\n",
       "    #T_7a32659e_f84b_11ea_a87e_e442a6e0befarow0_col0 {\n",
       "            background-color:  #b40426;\n",
       "            color:  #f1f1f1;\n",
       "            font-size:  0pt;\n",
       "        }    #T_7a32659e_f84b_11ea_a87e_e442a6e0befarow0_col1 {\n",
       "            background-color:  #465ecf;\n",
       "            color:  #f1f1f1;\n",
       "            font-size:  0pt;\n",
       "        }    #T_7a32659e_f84b_11ea_a87e_e442a6e0befarow0_col2 {\n",
       "            background-color:  #3b4cc0;\n",
       "            color:  #f1f1f1;\n",
       "            font-size:  0pt;\n",
       "        }    #T_7a32659e_f84b_11ea_a87e_e442a6e0befarow0_col3 {\n",
       "            background-color:  #485fd1;\n",
       "            color:  #f1f1f1;\n",
       "            font-size:  0pt;\n",
       "        }    #T_7a32659e_f84b_11ea_a87e_e442a6e0befarow0_col4 {\n",
       "            background-color:  #4a63d3;\n",
       "            color:  #f1f1f1;\n",
       "            font-size:  0pt;\n",
       "        }    #T_7a32659e_f84b_11ea_a87e_e442a6e0befarow1_col0 {\n",
       "            background-color:  #3b4cc0;\n",
       "            color:  #f1f1f1;\n",
       "            font-size:  0pt;\n",
       "        }    #T_7a32659e_f84b_11ea_a87e_e442a6e0befarow1_col1 {\n",
       "            background-color:  #b40426;\n",
       "            color:  #f1f1f1;\n",
       "            font-size:  0pt;\n",
       "        }    #T_7a32659e_f84b_11ea_a87e_e442a6e0befarow1_col2 {\n",
       "            background-color:  #3d50c3;\n",
       "            color:  #f1f1f1;\n",
       "            font-size:  0pt;\n",
       "        }    #T_7a32659e_f84b_11ea_a87e_e442a6e0befarow1_col3 {\n",
       "            background-color:  #3b4cc0;\n",
       "            color:  #f1f1f1;\n",
       "            font-size:  0pt;\n",
       "        }    #T_7a32659e_f84b_11ea_a87e_e442a6e0befarow1_col4 {\n",
       "            background-color:  #6485ec;\n",
       "            color:  #000000;\n",
       "            font-size:  0pt;\n",
       "        }    #T_7a32659e_f84b_11ea_a87e_e442a6e0befarow2_col0 {\n",
       "            background-color:  #3e51c5;\n",
       "            color:  #f1f1f1;\n",
       "            font-size:  0pt;\n",
       "        }    #T_7a32659e_f84b_11ea_a87e_e442a6e0befarow2_col1 {\n",
       "            background-color:  #4e68d8;\n",
       "            color:  #000000;\n",
       "            font-size:  0pt;\n",
       "        }    #T_7a32659e_f84b_11ea_a87e_e442a6e0befarow2_col2 {\n",
       "            background-color:  #b40426;\n",
       "            color:  #f1f1f1;\n",
       "            font-size:  0pt;\n",
       "        }    #T_7a32659e_f84b_11ea_a87e_e442a6e0befarow2_col3 {\n",
       "            background-color:  #5875e1;\n",
       "            color:  #000000;\n",
       "            font-size:  0pt;\n",
       "        }    #T_7a32659e_f84b_11ea_a87e_e442a6e0befarow2_col4 {\n",
       "            background-color:  #445acc;\n",
       "            color:  #f1f1f1;\n",
       "            font-size:  0pt;\n",
       "        }    #T_7a32659e_f84b_11ea_a87e_e442a6e0befarow3_col0 {\n",
       "            background-color:  #3b4cc0;\n",
       "            color:  #f1f1f1;\n",
       "            font-size:  0pt;\n",
       "        }    #T_7a32659e_f84b_11ea_a87e_e442a6e0befarow3_col1 {\n",
       "            background-color:  #3b4cc0;\n",
       "            color:  #f1f1f1;\n",
       "            font-size:  0pt;\n",
       "        }    #T_7a32659e_f84b_11ea_a87e_e442a6e0befarow3_col2 {\n",
       "            background-color:  #465ecf;\n",
       "            color:  #f1f1f1;\n",
       "            font-size:  0pt;\n",
       "        }    #T_7a32659e_f84b_11ea_a87e_e442a6e0befarow3_col3 {\n",
       "            background-color:  #b40426;\n",
       "            color:  #f1f1f1;\n",
       "            font-size:  0pt;\n",
       "        }    #T_7a32659e_f84b_11ea_a87e_e442a6e0befarow3_col4 {\n",
       "            background-color:  #3b4cc0;\n",
       "            color:  #f1f1f1;\n",
       "            font-size:  0pt;\n",
       "        }    #T_7a32659e_f84b_11ea_a87e_e442a6e0befarow4_col0 {\n",
       "            background-color:  #485fd1;\n",
       "            color:  #f1f1f1;\n",
       "            font-size:  0pt;\n",
       "        }    #T_7a32659e_f84b_11ea_a87e_e442a6e0befarow4_col1 {\n",
       "            background-color:  #6e90f2;\n",
       "            color:  #000000;\n",
       "            font-size:  0pt;\n",
       "        }    #T_7a32659e_f84b_11ea_a87e_e442a6e0befarow4_col2 {\n",
       "            background-color:  #3d50c3;\n",
       "            color:  #f1f1f1;\n",
       "            font-size:  0pt;\n",
       "        }    #T_7a32659e_f84b_11ea_a87e_e442a6e0befarow4_col3 {\n",
       "            background-color:  #4358cb;\n",
       "            color:  #f1f1f1;\n",
       "            font-size:  0pt;\n",
       "        }    #T_7a32659e_f84b_11ea_a87e_e442a6e0befarow4_col4 {\n",
       "            background-color:  #b40426;\n",
       "            color:  #f1f1f1;\n",
       "            font-size:  0pt;\n",
       "        }</style><table id=\"T_7a32659e_f84b_11ea_a87e_e442a6e0befa\" ><thead>    <tr>        <th class=\"blank level0\" ></th>        <th class=\"col_heading level0 col0\" >CompTotal</th>        <th class=\"col_heading level0 col1\" >ConvertedComp</th>        <th class=\"col_heading level0 col2\" >WorkWeekHrs</th>        <th class=\"col_heading level0 col3\" >CodeRevHrs</th>        <th class=\"col_heading level0 col4\" >Age</th>    </tr></thead><tbody>\n",
       "                <tr>\n",
       "                        <th id=\"T_7a32659e_f84b_11ea_a87e_e442a6e0befalevel0_row0\" class=\"row_heading level0 row0\" >CompTotal</th>\n",
       "                        <td id=\"T_7a32659e_f84b_11ea_a87e_e442a6e0befarow0_col0\" class=\"data row0 col0\" >1</td>\n",
       "                        <td id=\"T_7a32659e_f84b_11ea_a87e_e442a6e0befarow0_col1\" class=\"data row0 col1\" >-0.0288913</td>\n",
       "                        <td id=\"T_7a32659e_f84b_11ea_a87e_e442a6e0befarow0_col2\" class=\"data row0 col2\" >-0.0156712</td>\n",
       "                        <td id=\"T_7a32659e_f84b_11ea_a87e_e442a6e0befarow0_col3\" class=\"data row0 col3\" >-0.0265245</td>\n",
       "                        <td id=\"T_7a32659e_f84b_11ea_a87e_e442a6e0befarow0_col4\" class=\"data row0 col4\" >0.0164472</td>\n",
       "            </tr>\n",
       "            <tr>\n",
       "                        <th id=\"T_7a32659e_f84b_11ea_a87e_e442a6e0befalevel0_row1\" class=\"row_heading level0 row1\" >ConvertedComp</th>\n",
       "                        <td id=\"T_7a32659e_f84b_11ea_a87e_e442a6e0befarow1_col0\" class=\"data row1 col0\" >-0.0288913</td>\n",
       "                        <td id=\"T_7a32659e_f84b_11ea_a87e_e442a6e0befarow1_col1\" class=\"data row1 col1\" >1</td>\n",
       "                        <td id=\"T_7a32659e_f84b_11ea_a87e_e442a6e0befarow1_col2\" class=\"data row1 col2\" >-0.00457201</td>\n",
       "                        <td id=\"T_7a32659e_f84b_11ea_a87e_e442a6e0befarow1_col3\" class=\"data row1 col3\" >-0.0730475</td>\n",
       "                        <td id=\"T_7a32659e_f84b_11ea_a87e_e442a6e0befarow1_col4\" class=\"data row1 col4\" >0.0999257</td>\n",
       "            </tr>\n",
       "            <tr>\n",
       "                        <th id=\"T_7a32659e_f84b_11ea_a87e_e442a6e0befalevel0_row2\" class=\"row_heading level0 row2\" >WorkWeekHrs</th>\n",
       "                        <td id=\"T_7a32659e_f84b_11ea_a87e_e442a6e0befarow2_col0\" class=\"data row2 col0\" >-0.0156712</td>\n",
       "                        <td id=\"T_7a32659e_f84b_11ea_a87e_e442a6e0befarow2_col1\" class=\"data row2 col1\" >-0.00457201</td>\n",
       "                        <td id=\"T_7a32659e_f84b_11ea_a87e_e442a6e0befarow2_col2\" class=\"data row2 col2\" >1</td>\n",
       "                        <td id=\"T_7a32659e_f84b_11ea_a87e_e442a6e0befarow2_col3\" class=\"data row2 col3\" >0.0278498</td>\n",
       "                        <td id=\"T_7a32659e_f84b_11ea_a87e_e442a6e0befarow2_col4\" class=\"data row2 col4\" >-0.00536956</td>\n",
       "            </tr>\n",
       "            <tr>\n",
       "                        <th id=\"T_7a32659e_f84b_11ea_a87e_e442a6e0befalevel0_row3\" class=\"row_heading level0 row3\" >CodeRevHrs</th>\n",
       "                        <td id=\"T_7a32659e_f84b_11ea_a87e_e442a6e0befarow3_col0\" class=\"data row3 col0\" >-0.0265245</td>\n",
       "                        <td id=\"T_7a32659e_f84b_11ea_a87e_e442a6e0befarow3_col1\" class=\"data row3 col1\" >-0.0730475</td>\n",
       "                        <td id=\"T_7a32659e_f84b_11ea_a87e_e442a6e0befarow3_col2\" class=\"data row3 col2\" >0.0278498</td>\n",
       "                        <td id=\"T_7a32659e_f84b_11ea_a87e_e442a6e0befarow3_col3\" class=\"data row3 col3\" >1</td>\n",
       "                        <td id=\"T_7a32659e_f84b_11ea_a87e_e442a6e0befarow3_col4\" class=\"data row3 col4\" >-0.0398802</td>\n",
       "            </tr>\n",
       "            <tr>\n",
       "                        <th id=\"T_7a32659e_f84b_11ea_a87e_e442a6e0befalevel0_row4\" class=\"row_heading level0 row4\" >Age</th>\n",
       "                        <td id=\"T_7a32659e_f84b_11ea_a87e_e442a6e0befarow4_col0\" class=\"data row4 col0\" >0.0164472</td>\n",
       "                        <td id=\"T_7a32659e_f84b_11ea_a87e_e442a6e0befarow4_col1\" class=\"data row4 col1\" >0.0999257</td>\n",
       "                        <td id=\"T_7a32659e_f84b_11ea_a87e_e442a6e0befarow4_col2\" class=\"data row4 col2\" >-0.00536956</td>\n",
       "                        <td id=\"T_7a32659e_f84b_11ea_a87e_e442a6e0befarow4_col3\" class=\"data row4 col3\" >-0.0398802</td>\n",
       "                        <td id=\"T_7a32659e_f84b_11ea_a87e_e442a6e0befarow4_col4\" class=\"data row4 col4\" >1</td>\n",
       "            </tr>\n",
       "    </tbody></table>"
      ],
      "text/plain": [
       "<pandas.io.formats.style.Styler at 0x22944fd28c8>"
      ]
     },
     "execution_count": 8,
     "metadata": {},
     "output_type": "execute_result"
    }
   ],
   "source": [
    "corr.style.background_gradient(cmap='coolwarm').set_properties(**{'font-size': '0pt'})"
   ]
  },
  {
   "cell_type": "code",
   "execution_count": 9,
   "metadata": {},
   "outputs": [
    {
     "data": {
      "text/plain": [
       "<seaborn.axisgrid.PairGrid at 0x22944fd2c88>"
      ]
     },
     "execution_count": 9,
     "metadata": {},
     "output_type": "execute_result"
    },
    {
     "data": {
      "image/png": "[encoded data removed]",
      "text/plain": [
       "<Figure size 900x900 with 30 Axes>"
      ]
     },
     "metadata": {
      "needs_background": "light"
     },
     "output_type": "display_data"
    }
   ],
   "source": [
    "sns.pairplot(df, kind=\"scatter\")"
   ]
  },
  {
   "cell_type": "code",
   "execution_count": 10,
   "metadata": {},
   "outputs": [],
   "source": [
    "df = pd.read_csv(\"survey_results_public.csv\", header=0,\n",
    "                 usecols=[ 'Age','WorkWeekHrs', 'ConvertedComp','Hobbyist', \"Gender\" ])\n",
    "df = df.dropna()"
   ]
  },
  {
   "cell_type": "code",
   "execution_count": 11,
   "metadata": {},
   "outputs": [
    {
     "data": {
      "text/html": [
       "<div>\n",
       "<style scoped>\n",
       "    .dataframe tbody tr th:only-of-type {\n",
       "        vertical-align: middle;\n",
       "    }\n",
       "\n",
       "    .dataframe tbody tr th {\n",
       "        vertical-align: top;\n",
       "    }\n",
       "\n",
       "    .dataframe thead th {\n",
       "        text-align: right;\n",
       "    }\n",
       "</style>\n",
       "<table border=\"1\" class=\"dataframe\">\n",
       "  <thead>\n",
       "    <tr style=\"text-align: right;\">\n",
       "      <th></th>\n",
       "      <th>Hobbyist</th>\n",
       "      <th>WorkWeekHrs</th>\n",
       "      <th>Age</th>\n",
       "      <th>Gender</th>\n",
       "    </tr>\n",
       "    <tr>\n",
       "      <th>ConvertedComp</th>\n",
       "      <th></th>\n",
       "      <th></th>\n",
       "      <th></th>\n",
       "      <th></th>\n",
       "    </tr>\n",
       "  </thead>\n",
       "  <tbody>\n",
       "    <tr>\n",
       "      <td>8820.0</td>\n",
       "      <td>Yes</td>\n",
       "      <td>40.0</td>\n",
       "      <td>28.0</td>\n",
       "      <td>Man</td>\n",
       "    </tr>\n",
       "    <tr>\n",
       "      <td>61000.0</td>\n",
       "      <td>No</td>\n",
       "      <td>80.0</td>\n",
       "      <td>22.0</td>\n",
       "      <td>Man</td>\n",
       "    </tr>\n",
       "    <tr>\n",
       "      <td>366420.0</td>\n",
       "      <td>Yes</td>\n",
       "      <td>15.0</td>\n",
       "      <td>28.0</td>\n",
       "      <td>Man</td>\n",
       "    </tr>\n",
       "    <tr>\n",
       "      <td>95179.0</td>\n",
       "      <td>Yes</td>\n",
       "      <td>32.0</td>\n",
       "      <td>23.0</td>\n",
       "      <td>Man</td>\n",
       "    </tr>\n",
       "    <tr>\n",
       "      <td>90000.0</td>\n",
       "      <td>Yes</td>\n",
       "      <td>40.0</td>\n",
       "      <td>28.0</td>\n",
       "      <td>Man</td>\n",
       "    </tr>\n",
       "    <tr>\n",
       "      <td>...</td>\n",
       "      <td>...</td>\n",
       "      <td>...</td>\n",
       "      <td>...</td>\n",
       "      <td>...</td>\n",
       "    </tr>\n",
       "    <tr>\n",
       "      <td>8184.0</td>\n",
       "      <td>Yes</td>\n",
       "      <td>9.0</td>\n",
       "      <td>23.0</td>\n",
       "      <td>Man</td>\n",
       "    </tr>\n",
       "    <tr>\n",
       "      <td>43180.0</td>\n",
       "      <td>Yes</td>\n",
       "      <td>40.0</td>\n",
       "      <td>33.0</td>\n",
       "      <td>Man</td>\n",
       "    </tr>\n",
       "    <tr>\n",
       "      <td>75876.0</td>\n",
       "      <td>Yes</td>\n",
       "      <td>45.0</td>\n",
       "      <td>29.0</td>\n",
       "      <td>Man</td>\n",
       "    </tr>\n",
       "    <tr>\n",
       "      <td>1080000.0</td>\n",
       "      <td>Yes</td>\n",
       "      <td>80.0</td>\n",
       "      <td>31.0</td>\n",
       "      <td>Man</td>\n",
       "    </tr>\n",
       "    <tr>\n",
       "      <td>24048.0</td>\n",
       "      <td>Yes</td>\n",
       "      <td>40.0</td>\n",
       "      <td>23.0</td>\n",
       "      <td>Man</td>\n",
       "    </tr>\n",
       "  </tbody>\n",
       "</table>\n",
       "<p>1795 rows × 4 columns</p>\n",
       "</div>"
      ],
      "text/plain": [
       "              Hobbyist  WorkWeekHrs   Age Gender\n",
       "ConvertedComp                                   \n",
       "8820.0             Yes         40.0  28.0    Man\n",
       "61000.0             No         80.0  22.0    Man\n",
       "366420.0           Yes         15.0  28.0    Man\n",
       "95179.0            Yes         32.0  23.0    Man\n",
       "90000.0            Yes         40.0  28.0    Man\n",
       "...                ...          ...   ...    ...\n",
       "8184.0             Yes          9.0  23.0    Man\n",
       "43180.0            Yes         40.0  33.0    Man\n",
       "75876.0            Yes         45.0  29.0    Man\n",
       "1080000.0          Yes         80.0  31.0    Man\n",
       "24048.0            Yes         40.0  23.0    Man\n",
       "\n",
       "[1795 rows x 4 columns]"
      ]
     },
     "execution_count": 11,
     "metadata": {},
     "output_type": "execute_result"
    }
   ],
   "source": [
    "df.set_index(\"ConvertedComp\")"
   ]
  },
  {
   "cell_type": "code",
   "execution_count": 12,
   "metadata": {},
   "outputs": [],
   "source": [
    "map_function = {'Yes': 1, 'No': 0}\n",
    "df['Hobbyist'] = df['Hobbyist'].map(map_function)"
   ]
  },
  {
   "cell_type": "code",
   "execution_count": 13,
   "metadata": {},
   "outputs": [
    {
     "data": {
      "text/html": [
       "<div>\n",
       "<style scoped>\n",
       "    .dataframe tbody tr th:only-of-type {\n",
       "        vertical-align: middle;\n",
       "    }\n",
       "\n",
       "    .dataframe tbody tr th {\n",
       "        vertical-align: top;\n",
       "    }\n",
       "\n",
       "    .dataframe thead th {\n",
       "        text-align: right;\n",
       "    }\n",
       "</style>\n",
       "<table border=\"1\" class=\"dataframe\">\n",
       "  <thead>\n",
       "    <tr style=\"text-align: right;\">\n",
       "      <th></th>\n",
       "      <th>Hobbyist</th>\n",
       "      <th>ConvertedComp</th>\n",
       "      <th>WorkWeekHrs</th>\n",
       "      <th>Age</th>\n",
       "      <th>Gender</th>\n",
       "    </tr>\n",
       "  </thead>\n",
       "  <tbody>\n",
       "    <tr>\n",
       "      <td>2</td>\n",
       "      <td>1</td>\n",
       "      <td>8820.0</td>\n",
       "      <td>40.0</td>\n",
       "      <td>28.0</td>\n",
       "      <td>Man</td>\n",
       "    </tr>\n",
       "    <tr>\n",
       "      <td>3</td>\n",
       "      <td>0</td>\n",
       "      <td>61000.0</td>\n",
       "      <td>80.0</td>\n",
       "      <td>22.0</td>\n",
       "      <td>Man</td>\n",
       "    </tr>\n",
       "    <tr>\n",
       "      <td>5</td>\n",
       "      <td>1</td>\n",
       "      <td>366420.0</td>\n",
       "      <td>15.0</td>\n",
       "      <td>28.0</td>\n",
       "      <td>Man</td>\n",
       "    </tr>\n",
       "    <tr>\n",
       "      <td>8</td>\n",
       "      <td>1</td>\n",
       "      <td>95179.0</td>\n",
       "      <td>32.0</td>\n",
       "      <td>23.0</td>\n",
       "      <td>Man</td>\n",
       "    </tr>\n",
       "    <tr>\n",
       "      <td>12</td>\n",
       "      <td>1</td>\n",
       "      <td>90000.0</td>\n",
       "      <td>40.0</td>\n",
       "      <td>28.0</td>\n",
       "      <td>Man</td>\n",
       "    </tr>\n",
       "    <tr>\n",
       "      <td>...</td>\n",
       "      <td>...</td>\n",
       "      <td>...</td>\n",
       "      <td>...</td>\n",
       "      <td>...</td>\n",
       "      <td>...</td>\n",
       "    </tr>\n",
       "    <tr>\n",
       "      <td>2990</td>\n",
       "      <td>1</td>\n",
       "      <td>8184.0</td>\n",
       "      <td>9.0</td>\n",
       "      <td>23.0</td>\n",
       "      <td>Man</td>\n",
       "    </tr>\n",
       "    <tr>\n",
       "      <td>2993</td>\n",
       "      <td>1</td>\n",
       "      <td>43180.0</td>\n",
       "      <td>40.0</td>\n",
       "      <td>33.0</td>\n",
       "      <td>Man</td>\n",
       "    </tr>\n",
       "    <tr>\n",
       "      <td>2995</td>\n",
       "      <td>1</td>\n",
       "      <td>75876.0</td>\n",
       "      <td>45.0</td>\n",
       "      <td>29.0</td>\n",
       "      <td>Man</td>\n",
       "    </tr>\n",
       "    <tr>\n",
       "      <td>2997</td>\n",
       "      <td>1</td>\n",
       "      <td>1080000.0</td>\n",
       "      <td>80.0</td>\n",
       "      <td>31.0</td>\n",
       "      <td>Man</td>\n",
       "    </tr>\n",
       "    <tr>\n",
       "      <td>2998</td>\n",
       "      <td>1</td>\n",
       "      <td>24048.0</td>\n",
       "      <td>40.0</td>\n",
       "      <td>23.0</td>\n",
       "      <td>Man</td>\n",
       "    </tr>\n",
       "  </tbody>\n",
       "</table>\n",
       "<p>1795 rows × 5 columns</p>\n",
       "</div>"
      ],
      "text/plain": [
       "      Hobbyist  ConvertedComp  WorkWeekHrs   Age Gender\n",
       "2            1         8820.0         40.0  28.0    Man\n",
       "3            0        61000.0         80.0  22.0    Man\n",
       "5            1       366420.0         15.0  28.0    Man\n",
       "8            1        95179.0         32.0  23.0    Man\n",
       "12           1        90000.0         40.0  28.0    Man\n",
       "...        ...            ...          ...   ...    ...\n",
       "2990         1         8184.0          9.0  23.0    Man\n",
       "2993         1        43180.0         40.0  33.0    Man\n",
       "2995         1        75876.0         45.0  29.0    Man\n",
       "2997         1      1080000.0         80.0  31.0    Man\n",
       "2998         1        24048.0         40.0  23.0    Man\n",
       "\n",
       "[1795 rows x 5 columns]"
      ]
     },
     "execution_count": 13,
     "metadata": {},
     "output_type": "execute_result"
    }
   ],
   "source": [
    "df"
   ]
  },
  {
   "cell_type": "code",
   "execution_count": 14,
   "metadata": {},
   "outputs": [
    {
     "data": {
      "text/plain": [
       "array(['Man', 'Woman',\n",
       "       'Non-binary, genderqueer, or gender non-conforming',\n",
       "       'Woman;Non-binary, genderqueer, or gender non-conforming'],\n",
       "      dtype=object)"
      ]
     },
     "execution_count": 14,
     "metadata": {},
     "output_type": "execute_result"
    }
   ],
   "source": [
    "df[\"Gender\"].unique()"
   ]
  },
  {
   "cell_type": "code",
   "execution_count": 15,
   "metadata": {},
   "outputs": [],
   "source": [
    "df = df[df['Gender'].isin(['Woman', 'Man'])]\n",
    "df = pd.get_dummies(df, columns=['Gender'])"
   ]
  },
  {
   "cell_type": "code",
   "execution_count": 16,
   "metadata": {},
   "outputs": [
    {
     "data": {
      "text/html": [
       "<div>\n",
       "<style scoped>\n",
       "    .dataframe tbody tr th:only-of-type {\n",
       "        vertical-align: middle;\n",
       "    }\n",
       "\n",
       "    .dataframe tbody tr th {\n",
       "        vertical-align: top;\n",
       "    }\n",
       "\n",
       "    .dataframe thead th {\n",
       "        text-align: right;\n",
       "    }\n",
       "</style>\n",
       "<table border=\"1\" class=\"dataframe\">\n",
       "  <thead>\n",
       "    <tr style=\"text-align: right;\">\n",
       "      <th></th>\n",
       "      <th>Hobbyist</th>\n",
       "      <th>ConvertedComp</th>\n",
       "      <th>WorkWeekHrs</th>\n",
       "      <th>Age</th>\n",
       "      <th>Gender_Man</th>\n",
       "      <th>Gender_Woman</th>\n",
       "    </tr>\n",
       "  </thead>\n",
       "  <tbody>\n",
       "    <tr>\n",
       "      <td>2</td>\n",
       "      <td>1</td>\n",
       "      <td>8820.0</td>\n",
       "      <td>40.0</td>\n",
       "      <td>28.0</td>\n",
       "      <td>1</td>\n",
       "      <td>0</td>\n",
       "    </tr>\n",
       "    <tr>\n",
       "      <td>3</td>\n",
       "      <td>0</td>\n",
       "      <td>61000.0</td>\n",
       "      <td>80.0</td>\n",
       "      <td>22.0</td>\n",
       "      <td>1</td>\n",
       "      <td>0</td>\n",
       "    </tr>\n",
       "    <tr>\n",
       "      <td>5</td>\n",
       "      <td>1</td>\n",
       "      <td>366420.0</td>\n",
       "      <td>15.0</td>\n",
       "      <td>28.0</td>\n",
       "      <td>1</td>\n",
       "      <td>0</td>\n",
       "    </tr>\n",
       "    <tr>\n",
       "      <td>8</td>\n",
       "      <td>1</td>\n",
       "      <td>95179.0</td>\n",
       "      <td>32.0</td>\n",
       "      <td>23.0</td>\n",
       "      <td>1</td>\n",
       "      <td>0</td>\n",
       "    </tr>\n",
       "    <tr>\n",
       "      <td>12</td>\n",
       "      <td>1</td>\n",
       "      <td>90000.0</td>\n",
       "      <td>40.0</td>\n",
       "      <td>28.0</td>\n",
       "      <td>1</td>\n",
       "      <td>0</td>\n",
       "    </tr>\n",
       "    <tr>\n",
       "      <td>...</td>\n",
       "      <td>...</td>\n",
       "      <td>...</td>\n",
       "      <td>...</td>\n",
       "      <td>...</td>\n",
       "      <td>...</td>\n",
       "      <td>...</td>\n",
       "    </tr>\n",
       "    <tr>\n",
       "      <td>2990</td>\n",
       "      <td>1</td>\n",
       "      <td>8184.0</td>\n",
       "      <td>9.0</td>\n",
       "      <td>23.0</td>\n",
       "      <td>1</td>\n",
       "      <td>0</td>\n",
       "    </tr>\n",
       "    <tr>\n",
       "      <td>2993</td>\n",
       "      <td>1</td>\n",
       "      <td>43180.0</td>\n",
       "      <td>40.0</td>\n",
       "      <td>33.0</td>\n",
       "      <td>1</td>\n",
       "      <td>0</td>\n",
       "    </tr>\n",
       "    <tr>\n",
       "      <td>2995</td>\n",
       "      <td>1</td>\n",
       "      <td>75876.0</td>\n",
       "      <td>45.0</td>\n",
       "      <td>29.0</td>\n",
       "      <td>1</td>\n",
       "      <td>0</td>\n",
       "    </tr>\n",
       "    <tr>\n",
       "      <td>2997</td>\n",
       "      <td>1</td>\n",
       "      <td>1080000.0</td>\n",
       "      <td>80.0</td>\n",
       "      <td>31.0</td>\n",
       "      <td>1</td>\n",
       "      <td>0</td>\n",
       "    </tr>\n",
       "    <tr>\n",
       "      <td>2998</td>\n",
       "      <td>1</td>\n",
       "      <td>24048.0</td>\n",
       "      <td>40.0</td>\n",
       "      <td>23.0</td>\n",
       "      <td>1</td>\n",
       "      <td>0</td>\n",
       "    </tr>\n",
       "  </tbody>\n",
       "</table>\n",
       "<p>1779 rows × 6 columns</p>\n",
       "</div>"
      ],
      "text/plain": [
       "      Hobbyist  ConvertedComp  WorkWeekHrs   Age  Gender_Man  Gender_Woman\n",
       "2            1         8820.0         40.0  28.0           1             0\n",
       "3            0        61000.0         80.0  22.0           1             0\n",
       "5            1       366420.0         15.0  28.0           1             0\n",
       "8            1        95179.0         32.0  23.0           1             0\n",
       "12           1        90000.0         40.0  28.0           1             0\n",
       "...        ...            ...          ...   ...         ...           ...\n",
       "2990         1         8184.0          9.0  23.0           1             0\n",
       "2993         1        43180.0         40.0  33.0           1             0\n",
       "2995         1        75876.0         45.0  29.0           1             0\n",
       "2997         1      1080000.0         80.0  31.0           1             0\n",
       "2998         1        24048.0         40.0  23.0           1             0\n",
       "\n",
       "[1779 rows x 6 columns]"
      ]
     },
     "execution_count": 16,
     "metadata": {},
     "output_type": "execute_result"
    }
   ],
   "source": [
    "df"
   ]
  },
  {
   "cell_type": "code",
   "execution_count": 17,
   "metadata": {},
   "outputs": [
    {
     "name": "stdout",
     "output_type": "stream",
     "text": [
      "[[0.51681139 0.40832961 0.1076285  0.44134231 0.28885089 0.28885089]\n",
      " [1.93494186 0.23298947 1.36637417 1.21122102 0.28885089 0.28885089]\n",
      " [0.51681139 0.79331151 1.02888017 0.44134231 0.28885089 0.28885089]\n",
      " ...\n",
      " [0.51681139 0.18300174 0.07662183 0.31302919 0.28885089 0.28885089]\n",
      " [0.51681139 3.19115008 1.36637417 0.05640296 0.28885089 0.28885089]\n",
      " [0.51681139 0.35715905 0.1076285  1.0829079  0.28885089 0.28885089]]\n"
     ]
    }
   ],
   "source": [
    "z = np.abs(stats.zscore(df))\n",
    "print(z)"
   ]
  },
  {
   "cell_type": "code",
   "execution_count": 18,
   "metadata": {},
   "outputs": [
    {
     "name": "stdout",
     "output_type": "stream",
     "text": [
      "[[ True  True  True  True  True  True]\n",
      " [ True  True  True  True  True  True]\n",
      " [ True  True  True  True  True  True]\n",
      " ...\n",
      " [ True  True  True  True  True  True]\n",
      " [ True False  True  True  True  True]\n",
      " [ True  True  True  True  True  True]]\n"
     ]
    }
   ],
   "source": [
    "print(z < 3)"
   ]
  },
  {
   "cell_type": "code",
   "execution_count": 19,
   "metadata": {},
   "outputs": [
    {
     "name": "stdout",
     "output_type": "stream",
     "text": [
      "Hobbyist             0.0\n",
      "ConvertedComp    72733.5\n",
      "WorkWeekHrs          4.0\n",
      "Age                  9.0\n",
      "Gender_Man           0.0\n",
      "Gender_Woman         0.0\n",
      "dtype: float64\n"
     ]
    }
   ],
   "source": [
    "Q1 = df.quantile(0.25)\n",
    "Q3 = df.quantile(0.75)\n",
    "IQR = Q3 - Q1\n",
    "print(IQR)"
   ]
  },
  {
   "cell_type": "code",
   "execution_count": 20,
   "metadata": {},
   "outputs": [
    {
     "data": {
      "text/plain": [
       "(993, 6)"
      ]
     },
     "execution_count": 20,
     "metadata": {},
     "output_type": "execute_result"
    }
   ],
   "source": [
    "df_out = df[~((df < (Q1 - 1.5 * IQR)) |(df > (Q3 + 1.5 * IQR))).any(axis=1)]\n",
    "df_out.shape"
   ]
  },
  {
   "cell_type": "code",
   "execution_count": 21,
   "metadata": {},
   "outputs": [],
   "source": [
    "df_out_z = df[(z < 3).all(axis = 1)]"
   ]
  },
  {
   "cell_type": "code",
   "execution_count": 22,
   "metadata": {},
   "outputs": [
    {
     "data": {
      "text/html": [
       "<div>\n",
       "<style scoped>\n",
       "    .dataframe tbody tr th:only-of-type {\n",
       "        vertical-align: middle;\n",
       "    }\n",
       "\n",
       "    .dataframe tbody tr th {\n",
       "        vertical-align: top;\n",
       "    }\n",
       "\n",
       "    .dataframe thead th {\n",
       "        text-align: right;\n",
       "    }\n",
       "</style>\n",
       "<table border=\"1\" class=\"dataframe\">\n",
       "  <thead>\n",
       "    <tr style=\"text-align: right;\">\n",
       "      <th></th>\n",
       "      <th>Hobbyist</th>\n",
       "      <th>ConvertedComp</th>\n",
       "      <th>WorkWeekHrs</th>\n",
       "      <th>Age</th>\n",
       "      <th>Gender_Man</th>\n",
       "      <th>Gender_Woman</th>\n",
       "    </tr>\n",
       "  </thead>\n",
       "  <tbody>\n",
       "    <tr>\n",
       "      <td>2</td>\n",
       "      <td>1</td>\n",
       "      <td>8820.0</td>\n",
       "      <td>40.0</td>\n",
       "      <td>28.0</td>\n",
       "      <td>1</td>\n",
       "      <td>0</td>\n",
       "    </tr>\n",
       "    <tr>\n",
       "      <td>3</td>\n",
       "      <td>0</td>\n",
       "      <td>61000.0</td>\n",
       "      <td>80.0</td>\n",
       "      <td>22.0</td>\n",
       "      <td>1</td>\n",
       "      <td>0</td>\n",
       "    </tr>\n",
       "    <tr>\n",
       "      <td>5</td>\n",
       "      <td>1</td>\n",
       "      <td>366420.0</td>\n",
       "      <td>15.0</td>\n",
       "      <td>28.0</td>\n",
       "      <td>1</td>\n",
       "      <td>0</td>\n",
       "    </tr>\n",
       "    <tr>\n",
       "      <td>8</td>\n",
       "      <td>1</td>\n",
       "      <td>95179.0</td>\n",
       "      <td>32.0</td>\n",
       "      <td>23.0</td>\n",
       "      <td>1</td>\n",
       "      <td>0</td>\n",
       "    </tr>\n",
       "    <tr>\n",
       "      <td>12</td>\n",
       "      <td>1</td>\n",
       "      <td>90000.0</td>\n",
       "      <td>40.0</td>\n",
       "      <td>28.0</td>\n",
       "      <td>1</td>\n",
       "      <td>0</td>\n",
       "    </tr>\n",
       "    <tr>\n",
       "      <td>...</td>\n",
       "      <td>...</td>\n",
       "      <td>...</td>\n",
       "      <td>...</td>\n",
       "      <td>...</td>\n",
       "      <td>...</td>\n",
       "      <td>...</td>\n",
       "    </tr>\n",
       "    <tr>\n",
       "      <td>2989</td>\n",
       "      <td>1</td>\n",
       "      <td>6996.0</td>\n",
       "      <td>40.0</td>\n",
       "      <td>24.0</td>\n",
       "      <td>1</td>\n",
       "      <td>0</td>\n",
       "    </tr>\n",
       "    <tr>\n",
       "      <td>2990</td>\n",
       "      <td>1</td>\n",
       "      <td>8184.0</td>\n",
       "      <td>9.0</td>\n",
       "      <td>23.0</td>\n",
       "      <td>1</td>\n",
       "      <td>0</td>\n",
       "    </tr>\n",
       "    <tr>\n",
       "      <td>2993</td>\n",
       "      <td>1</td>\n",
       "      <td>43180.0</td>\n",
       "      <td>40.0</td>\n",
       "      <td>33.0</td>\n",
       "      <td>1</td>\n",
       "      <td>0</td>\n",
       "    </tr>\n",
       "    <tr>\n",
       "      <td>2995</td>\n",
       "      <td>1</td>\n",
       "      <td>75876.0</td>\n",
       "      <td>45.0</td>\n",
       "      <td>29.0</td>\n",
       "      <td>1</td>\n",
       "      <td>0</td>\n",
       "    </tr>\n",
       "    <tr>\n",
       "      <td>2998</td>\n",
       "      <td>1</td>\n",
       "      <td>24048.0</td>\n",
       "      <td>40.0</td>\n",
       "      <td>23.0</td>\n",
       "      <td>1</td>\n",
       "      <td>0</td>\n",
       "    </tr>\n",
       "  </tbody>\n",
       "</table>\n",
       "<p>1562 rows × 6 columns</p>\n",
       "</div>"
      ],
      "text/plain": [
       "      Hobbyist  ConvertedComp  WorkWeekHrs   Age  Gender_Man  Gender_Woman\n",
       "2            1         8820.0         40.0  28.0           1             0\n",
       "3            0        61000.0         80.0  22.0           1             0\n",
       "5            1       366420.0         15.0  28.0           1             0\n",
       "8            1        95179.0         32.0  23.0           1             0\n",
       "12           1        90000.0         40.0  28.0           1             0\n",
       "...        ...            ...          ...   ...         ...           ...\n",
       "2989         1         6996.0         40.0  24.0           1             0\n",
       "2990         1         8184.0          9.0  23.0           1             0\n",
       "2993         1        43180.0         40.0  33.0           1             0\n",
       "2995         1        75876.0         45.0  29.0           1             0\n",
       "2998         1        24048.0         40.0  23.0           1             0\n",
       "\n",
       "[1562 rows x 6 columns]"
      ]
     },
     "execution_count": 22,
     "metadata": {},
     "output_type": "execute_result"
    }
   ],
   "source": [
    "df_out_z"
   ]
  },
  {
   "cell_type": "code",
   "execution_count": 23,
   "metadata": {},
   "outputs": [
    {
     "data": {
      "text/html": [
       "<div>\n",
       "<style scoped>\n",
       "    .dataframe tbody tr th:only-of-type {\n",
       "        vertical-align: middle;\n",
       "    }\n",
       "\n",
       "    .dataframe tbody tr th {\n",
       "        vertical-align: top;\n",
       "    }\n",
       "\n",
       "    .dataframe thead th {\n",
       "        text-align: right;\n",
       "    }\n",
       "</style>\n",
       "<table border=\"1\" class=\"dataframe\">\n",
       "  <thead>\n",
       "    <tr style=\"text-align: right;\">\n",
       "      <th></th>\n",
       "      <th>Hobbyist</th>\n",
       "      <th>ConvertedComp</th>\n",
       "      <th>WorkWeekHrs</th>\n",
       "      <th>Age</th>\n",
       "      <th>Gender_Man</th>\n",
       "      <th>Gender_Woman</th>\n",
       "    </tr>\n",
       "  </thead>\n",
       "  <tbody>\n",
       "    <tr>\n",
       "      <td>Hobbyist</td>\n",
       "      <td>1.000000</td>\n",
       "      <td>0.001174</td>\n",
       "      <td>0.017962</td>\n",
       "      <td>-0.042646</td>\n",
       "      <td>NaN</td>\n",
       "      <td>NaN</td>\n",
       "    </tr>\n",
       "    <tr>\n",
       "      <td>ConvertedComp</td>\n",
       "      <td>0.001174</td>\n",
       "      <td>1.000000</td>\n",
       "      <td>0.069417</td>\n",
       "      <td>0.152018</td>\n",
       "      <td>NaN</td>\n",
       "      <td>NaN</td>\n",
       "    </tr>\n",
       "    <tr>\n",
       "      <td>WorkWeekHrs</td>\n",
       "      <td>0.017962</td>\n",
       "      <td>0.069417</td>\n",
       "      <td>1.000000</td>\n",
       "      <td>0.087599</td>\n",
       "      <td>NaN</td>\n",
       "      <td>NaN</td>\n",
       "    </tr>\n",
       "    <tr>\n",
       "      <td>Age</td>\n",
       "      <td>-0.042646</td>\n",
       "      <td>0.152018</td>\n",
       "      <td>0.087599</td>\n",
       "      <td>1.000000</td>\n",
       "      <td>NaN</td>\n",
       "      <td>NaN</td>\n",
       "    </tr>\n",
       "    <tr>\n",
       "      <td>Gender_Man</td>\n",
       "      <td>NaN</td>\n",
       "      <td>NaN</td>\n",
       "      <td>NaN</td>\n",
       "      <td>NaN</td>\n",
       "      <td>NaN</td>\n",
       "      <td>NaN</td>\n",
       "    </tr>\n",
       "    <tr>\n",
       "      <td>Gender_Woman</td>\n",
       "      <td>NaN</td>\n",
       "      <td>NaN</td>\n",
       "      <td>NaN</td>\n",
       "      <td>NaN</td>\n",
       "      <td>NaN</td>\n",
       "      <td>NaN</td>\n",
       "    </tr>\n",
       "  </tbody>\n",
       "</table>\n",
       "</div>"
      ],
      "text/plain": [
       "               Hobbyist  ConvertedComp  WorkWeekHrs       Age  Gender_Man  \\\n",
       "Hobbyist       1.000000       0.001174     0.017962 -0.042646         NaN   \n",
       "ConvertedComp  0.001174       1.000000     0.069417  0.152018         NaN   \n",
       "WorkWeekHrs    0.017962       0.069417     1.000000  0.087599         NaN   \n",
       "Age           -0.042646       0.152018     0.087599  1.000000         NaN   \n",
       "Gender_Man          NaN            NaN          NaN       NaN         NaN   \n",
       "Gender_Woman        NaN            NaN          NaN       NaN         NaN   \n",
       "\n",
       "               Gender_Woman  \n",
       "Hobbyist                NaN  \n",
       "ConvertedComp           NaN  \n",
       "WorkWeekHrs             NaN  \n",
       "Age                     NaN  \n",
       "Gender_Man              NaN  \n",
       "Gender_Woman            NaN  "
      ]
     },
     "execution_count": 23,
     "metadata": {},
     "output_type": "execute_result"
    }
   ],
   "source": [
    "corr = df_out_z.corr()\n",
    "corr"
   ]
  },
  {
   "cell_type": "code",
   "execution_count": 24,
   "metadata": {},
   "outputs": [],
   "source": [
    "# regression wit 1 numeric variable\n",
    "\n",
    "X = df_out[['WorkWeekHrs']]\n",
    "y = df_out[['ConvertedComp']]"
   ]
  },
  {
   "cell_type": "code",
   "execution_count": 25,
   "metadata": {},
   "outputs": [],
   "source": [
    "X_train, X_test, y_train, y_test = train_test_split(X, y, test_size=0.2, random_state=0)"
   ]
  },
  {
   "cell_type": "code",
   "execution_count": 26,
   "metadata": {},
   "outputs": [
    {
     "data": {
      "text/plain": [
       "LinearRegression(copy_X=True, fit_intercept=True, n_jobs=None, normalize=False)"
      ]
     },
     "execution_count": 26,
     "metadata": {},
     "output_type": "execute_result"
    }
   ],
   "source": [
    "regr = LinearRegression()  \n",
    "regr.fit(X_train, y_train)"
   ]
  },
  {
   "cell_type": "code",
   "execution_count": 27,
   "metadata": {},
   "outputs": [
    {
     "name": "stdout",
     "output_type": "stream",
     "text": [
      "[40136.79259124]\n",
      "[[571.42833906]]\n"
     ]
    }
   ],
   "source": [
    "#To retrieve the intercept:\n",
    "print(regr.intercept_)\n",
    "#For retrieving the slope:\n",
    "print(regr.coef_)"
   ]
  },
  {
   "cell_type": "code",
   "execution_count": 28,
   "metadata": {},
   "outputs": [],
   "source": [
    "y_pred = regr.predict(X_test)"
   ]
  },
  {
   "cell_type": "code",
   "execution_count": 29,
   "metadata": {},
   "outputs": [
    {
     "name": "stdout",
     "output_type": "stream",
     "text": [
      "Mean Absolute Error: 33547.36013387717\n",
      "Mean Squared Error: 1684278111.180039\n",
      "Root Mean Squared Error: 41039.957494861505\n"
     ]
    }
   ],
   "source": [
    "print('Mean Absolute Error:', metrics.mean_absolute_error(y_test, y_pred))  \n",
    "print('Mean Squared Error:', metrics.mean_squared_error(y_test, y_pred))  \n",
    "print('Root Mean Squared Error:', np.sqrt(metrics.mean_squared_error(y_test, y_pred)))"
   ]
  },
  {
   "cell_type": "code",
   "execution_count": 30,
   "metadata": {},
   "outputs": [],
   "source": [
    "# regression with 2 numeric variables\n",
    "\n",
    "X = df_out[['Age', 'WorkWeekHrs']].values\n",
    "y = df_out['ConvertedComp'].values"
   ]
  },
  {
   "cell_type": "code",
   "execution_count": 31,
   "metadata": {},
   "outputs": [],
   "source": [
    "X_train, X_test, y_train, y_test = train_test_split(X, y, test_size=0.2, random_state=0)"
   ]
  },
  {
   "cell_type": "code",
   "execution_count": 32,
   "metadata": {},
   "outputs": [
    {
     "data": {
      "text/plain": [
       "LinearRegression(copy_X=True, fit_intercept=True, n_jobs=None, normalize=False)"
      ]
     },
     "execution_count": 32,
     "metadata": {},
     "output_type": "execute_result"
    }
   ],
   "source": [
    "regr = LinearRegression()  \n",
    "regr.fit(X_train, y_train)"
   ]
  },
  {
   "cell_type": "code",
   "execution_count": 33,
   "metadata": {},
   "outputs": [
    {
     "name": "stdout",
     "output_type": "stream",
     "text": [
      "-37307.74148949473\n",
      "[2608.97244495  521.27682102]\n"
     ]
    }
   ],
   "source": [
    "#To retrieve the intercept:\n",
    "print(regr.intercept_)\n",
    "#For retrieving the slope:\n",
    "print(regr.coef_)"
   ]
  },
  {
   "cell_type": "code",
   "execution_count": 34,
   "metadata": {},
   "outputs": [],
   "source": [
    "y_pred = regr.predict(X_test)"
   ]
  },
  {
   "cell_type": "code",
   "execution_count": 35,
   "metadata": {},
   "outputs": [
    {
     "name": "stdout",
     "output_type": "stream",
     "text": [
      "Mean Absolute Error: 30834.62357244971\n",
      "Mean Squared Error: 1435948823.1607807\n",
      "Root Mean Squared Error: 37893.91538440942\n"
     ]
    }
   ],
   "source": [
    "print('Mean Absolute Error:', metrics.mean_absolute_error(y_test, y_pred))  \n",
    "print('Mean Squared Error:', metrics.mean_squared_error(y_test, y_pred))  \n",
    "print('Root Mean Squared Error:', np.sqrt(metrics.mean_squared_error(y_test, y_pred)))"
   ]
  },
  {
   "cell_type": "code",
   "execution_count": 36,
   "metadata": {},
   "outputs": [],
   "source": [
    "# regression for 4 variables\n",
    "\n",
    "X = df_out[['Age', 'WorkWeekHrs', 'Hobbyist', 'Gender_Man', 'Gender_Woman']].values\n",
    "y = df_out['ConvertedComp'].values"
   ]
  },
  {
   "cell_type": "code",
   "execution_count": 37,
   "metadata": {},
   "outputs": [],
   "source": [
    "X_train, X_test, y_train, y_test = train_test_split(X, y, test_size=0.2, random_state=0)"
   ]
  },
  {
   "cell_type": "code",
   "execution_count": 38,
   "metadata": {},
   "outputs": [
    {
     "data": {
      "text/plain": [
       "LinearRegression(copy_X=True, fit_intercept=True, n_jobs=None, normalize=False)"
      ]
     },
     "execution_count": 38,
     "metadata": {},
     "output_type": "execute_result"
    }
   ],
   "source": [
    "regr = LinearRegression()  \n",
    "regr.fit(X_train, y_train)"
   ]
  },
  {
   "cell_type": "code",
   "execution_count": 39,
   "metadata": {},
   "outputs": [],
   "source": [
    "y_pred = regr.predict(X_test)"
   ]
  },
  {
   "cell_type": "code",
   "execution_count": 40,
   "metadata": {},
   "outputs": [
    {
     "data": {
      "text/html": [
       "<div>\n",
       "<style scoped>\n",
       "    .dataframe tbody tr th:only-of-type {\n",
       "        vertical-align: middle;\n",
       "    }\n",
       "\n",
       "    .dataframe tbody tr th {\n",
       "        vertical-align: top;\n",
       "    }\n",
       "\n",
       "    .dataframe thead th {\n",
       "        text-align: right;\n",
       "    }\n",
       "</style>\n",
       "<table border=\"1\" class=\"dataframe\">\n",
       "  <thead>\n",
       "    <tr style=\"text-align: right;\">\n",
       "      <th></th>\n",
       "      <th>Actual</th>\n",
       "      <th>Predicted</th>\n",
       "    </tr>\n",
       "  </thead>\n",
       "  <tbody>\n",
       "    <tr>\n",
       "      <td>0</td>\n",
       "      <td>19590.0</td>\n",
       "      <td>48767.642475</td>\n",
       "    </tr>\n",
       "    <tr>\n",
       "      <td>1</td>\n",
       "      <td>190000.0</td>\n",
       "      <td>48767.642475</td>\n",
       "    </tr>\n",
       "    <tr>\n",
       "      <td>2</td>\n",
       "      <td>16788.0</td>\n",
       "      <td>53980.410685</td>\n",
       "    </tr>\n",
       "    <tr>\n",
       "      <td>3</td>\n",
       "      <td>82494.0</td>\n",
       "      <td>69639.422034</td>\n",
       "    </tr>\n",
       "    <tr>\n",
       "      <td>4</td>\n",
       "      <td>115000.0</td>\n",
       "      <td>90511.201594</td>\n",
       "    </tr>\n",
       "    <tr>\n",
       "      <td>5</td>\n",
       "      <td>43180.0</td>\n",
       "      <td>51376.614920</td>\n",
       "    </tr>\n",
       "    <tr>\n",
       "      <td>6</td>\n",
       "      <td>0.0</td>\n",
       "      <td>77461.162690</td>\n",
       "    </tr>\n",
       "    <tr>\n",
       "      <td>7</td>\n",
       "      <td>80000.0</td>\n",
       "      <td>55028.141007</td>\n",
       "    </tr>\n",
       "    <tr>\n",
       "      <td>8</td>\n",
       "      <td>51468.0</td>\n",
       "      <td>72248.394479</td>\n",
       "    </tr>\n",
       "    <tr>\n",
       "      <td>9</td>\n",
       "      <td>21119.0</td>\n",
       "      <td>69639.422034</td>\n",
       "    </tr>\n",
       "    <tr>\n",
       "      <td>10</td>\n",
       "      <td>73000.0</td>\n",
       "      <td>69639.422034</td>\n",
       "    </tr>\n",
       "    <tr>\n",
       "      <td>11</td>\n",
       "      <td>71376.0</td>\n",
       "      <td>49812.784457</td>\n",
       "    </tr>\n",
       "    <tr>\n",
       "      <td>12</td>\n",
       "      <td>105000.0</td>\n",
       "      <td>43549.697585</td>\n",
       "    </tr>\n",
       "    <tr>\n",
       "      <td>13</td>\n",
       "      <td>46442.0</td>\n",
       "      <td>69639.422034</td>\n",
       "    </tr>\n",
       "    <tr>\n",
       "      <td>14</td>\n",
       "      <td>34372.0</td>\n",
       "      <td>74854.778584</td>\n",
       "    </tr>\n",
       "    <tr>\n",
       "      <td>15</td>\n",
       "      <td>54996.0</td>\n",
       "      <td>67030.449589</td>\n",
       "    </tr>\n",
       "    <tr>\n",
       "      <td>16</td>\n",
       "      <td>38496.0</td>\n",
       "      <td>43549.697585</td>\n",
       "    </tr>\n",
       "    <tr>\n",
       "      <td>17</td>\n",
       "      <td>106645.0</td>\n",
       "      <td>80072.723474</td>\n",
       "    </tr>\n",
       "    <tr>\n",
       "      <td>18</td>\n",
       "      <td>95000.0</td>\n",
       "      <td>56591.971470</td>\n",
       "    </tr>\n",
       "    <tr>\n",
       "      <td>19</td>\n",
       "      <td>187000.0</td>\n",
       "      <td>100947.091374</td>\n",
       "    </tr>\n",
       "    <tr>\n",
       "      <td>20</td>\n",
       "      <td>14256.0</td>\n",
       "      <td>61288.639539</td>\n",
       "    </tr>\n",
       "    <tr>\n",
       "      <td>21</td>\n",
       "      <td>114575.0</td>\n",
       "      <td>46158.670030</td>\n",
       "    </tr>\n",
       "    <tr>\n",
       "      <td>22</td>\n",
       "      <td>62073.0</td>\n",
       "      <td>55291.367757</td>\n",
       "    </tr>\n",
       "    <tr>\n",
       "      <td>23</td>\n",
       "      <td>106000.0</td>\n",
       "      <td>79551.446653</td>\n",
       "    </tr>\n",
       "    <tr>\n",
       "      <td>24</td>\n",
       "      <td>72182.0</td>\n",
       "      <td>69639.422034</td>\n",
       "    </tr>\n",
       "  </tbody>\n",
       "</table>\n",
       "</div>"
      ],
      "text/plain": [
       "      Actual      Predicted\n",
       "0    19590.0   48767.642475\n",
       "1   190000.0   48767.642475\n",
       "2    16788.0   53980.410685\n",
       "3    82494.0   69639.422034\n",
       "4   115000.0   90511.201594\n",
       "5    43180.0   51376.614920\n",
       "6        0.0   77461.162690\n",
       "7    80000.0   55028.141007\n",
       "8    51468.0   72248.394479\n",
       "9    21119.0   69639.422034\n",
       "10   73000.0   69639.422034\n",
       "11   71376.0   49812.784457\n",
       "12  105000.0   43549.697585\n",
       "13   46442.0   69639.422034\n",
       "14   34372.0   74854.778584\n",
       "15   54996.0   67030.449589\n",
       "16   38496.0   43549.697585\n",
       "17  106645.0   80072.723474\n",
       "18   95000.0   56591.971470\n",
       "19  187000.0  100947.091374\n",
       "20   14256.0   61288.639539\n",
       "21  114575.0   46158.670030\n",
       "22   62073.0   55291.367757\n",
       "23  106000.0   79551.446653\n",
       "24   72182.0   69639.422034"
      ]
     },
     "execution_count": 40,
     "metadata": {},
     "output_type": "execute_result"
    }
   ],
   "source": [
    "df = pd.DataFrame({'Actual': y_test, 'Predicted': y_pred})\n",
    "df.head(25)"
   ]
  },
  {
   "cell_type": "code",
   "execution_count": 41,
   "metadata": {},
   "outputs": [
    {
     "name": "stdout",
     "output_type": "stream",
     "text": [
      "Mean Absolute Error: 30834.62357244972\n",
      "Mean Squared Error: 1435948823.160781\n",
      "Root Mean Squared Error: 37893.91538440942\n"
     ]
    }
   ],
   "source": [
    "print('Mean Absolute Error:', metrics.mean_absolute_error(y_test, y_pred))  \n",
    "print('Mean Squared Error:', metrics.mean_squared_error(y_test, y_pred))  \n",
    "print('Root Mean Squared Error:', np.sqrt(metrics.mean_squared_error(y_test, y_pred)))"
   ]
  },
  {
   "cell_type": "code",
   "execution_count": 42,
   "metadata": {},
   "outputs": [],
   "source": [
    "# predicting salary of 30 y.o. man who works 50 hours per week and is a hobbyist \n",
    "\n",
    "vec = [[30, 50,1,1,0]]"
   ]
  },
  {
   "cell_type": "code",
   "execution_count": 43,
   "metadata": {},
   "outputs": [
    {
     "data": {
      "text/plain": [
       "array([67025.27290977])"
      ]
     },
     "execution_count": 43,
     "metadata": {},
     "output_type": "execute_result"
    }
   ],
   "source": [
    "regr.predict(vec)"
   ]
  }
 ],
 "metadata": {
  "kernelspec": {
   "display_name": "Python 3",
   "language": "python",
   "name": "python3"
  },
  "language_info": {
   "codemirror_mode": {
    "name": "ipython",
    "version": 3
   },
   "file_extension": ".py",
   "mimetype": "text/x-python",
   "name": "python",
   "nbconvert_exporter": "python",
   "pygments_lexer": "ipython3",
   "version": "3.7.4"
  }
 },
 "nbformat": 4,
 "nbformat_minor": 2
}
